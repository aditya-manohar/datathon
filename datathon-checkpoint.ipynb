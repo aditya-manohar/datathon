{
 "cells": [
  {
   "cell_type": "code",
   "execution_count": 2,
   "id": "a715301e",
   "metadata": {},
   "outputs": [
    {
     "name": "stdout",
     "output_type": "stream",
     "text": [
      "Requirement already satisfied: pandas in c:\\users\\aditya manohar\\anaconda3\\lib\\site-packages (1.3.4)\n",
      "Requirement already satisfied: nltk in c:\\users\\aditya manohar\\anaconda3\\lib\\site-packages (3.6.5)\n",
      "Requirement already satisfied: python-dateutil>=2.7.3 in c:\\users\\aditya manohar\\anaconda3\\lib\\site-packages (from pandas) (2.8.2)\n",
      "Requirement already satisfied: pytz>=2017.3 in c:\\users\\aditya manohar\\anaconda3\\lib\\site-packages (from pandas) (2021.3)\n",
      "Requirement already satisfied: numpy>=1.17.3 in c:\\users\\aditya manohar\\anaconda3\\lib\\site-packages (from pandas) (1.20.3)\n",
      "Requirement already satisfied: click in c:\\users\\aditya manohar\\anaconda3\\lib\\site-packages (from nltk) (8.0.3)\n",
      "Requirement already satisfied: joblib in c:\\users\\aditya manohar\\anaconda3\\lib\\site-packages (from nltk) (1.1.0)\n",
      "Requirement already satisfied: regex>=2021.8.3 in c:\\users\\aditya manohar\\anaconda3\\lib\\site-packages (from nltk) (2021.8.3)\n",
      "Requirement already satisfied: tqdm in c:\\users\\aditya manohar\\anaconda3\\lib\\site-packages (from nltk) (4.62.3)\n",
      "Requirement already satisfied: six>=1.5 in c:\\users\\aditya manohar\\anaconda3\\lib\\site-packages (from python-dateutil>=2.7.3->pandas) (1.16.0)\n",
      "Requirement already satisfied: colorama in c:\\users\\aditya manohar\\anaconda3\\lib\\site-packages (from click->nltk) (0.4.4)\n",
      "Note: you may need to restart the kernel to use updated packages.\n"
     ]
    }
   ],
   "source": [
    "pip install pandas nltk"
   ]
  },
  {
   "cell_type": "code",
   "execution_count": 22,
   "id": "906a7d29",
   "metadata": {},
   "outputs": [
    {
     "name": "stdout",
     "output_type": "stream",
     "text": [
      "Accuracy: 0.49221183800623053\n",
      "              precision    recall  f1-score   support\n",
      "\n",
      "         JOY       0.53      0.59      0.56        78\n",
      "     NEUTRAL       0.42      0.49      0.45        95\n",
      "    OPTIMISM       0.48      0.51      0.50        92\n",
      "       UPSET       0.72      0.32      0.44        56\n",
      "\n",
      "    accuracy                           0.49       321\n",
      "   macro avg       0.54      0.48      0.49       321\n",
      "weighted avg       0.52      0.49      0.49       321\n",
      "\n"
     ]
    }
   ],
   "source": [
    "import pandas as pd\n",
    "import re\n",
    "import string\n",
    "from nltk.corpus import stopwords\n",
    "from nltk.tokenize import word_tokenize\n",
    "import nltk\n",
    "from nltk.stem import PorterStemmer\n",
    "from nltk.stem import WordNetLemmatizer\n",
    "from sklearn.feature_extraction.text import TfidfVectorizer\n",
    "from sklearn.model_selection import train_test_split\n",
    "from sklearn.ensemble import RandomForestClassifier \n",
    "from sklearn.metrics import accuracy_score, classification_report\n",
    "from sklearn.svm import SVC\n",
    "\n",
    "df1 = pd.read_csv('Datathon.csv')\n",
    "\n",
    "df=df1.dropna(axis=0, how=\"any\")\n",
    "\n",
    "text_data = df['Text_of_Speech']\n",
    "text_data = text_data.fillna('')\n",
    "text_data = text_data.str.lower()\n",
    "\n",
    "def remove_punctuation(text):\n",
    "    return text.translate(str.maketrans('', '', string.punctuation))\n",
    "\n",
    "text_data = text_data.apply(remove_punctuation)\n",
    "text_data = text_data.apply(word_tokenize)\n",
    "stop_words = set(stopwords.words('english')) \n",
    "\n",
    "def remove_stopwords(text):\n",
    "    return [word for word in text if word not in stop_words]\n",
    "\n",
    "text_data = text_data.apply(remove_stopwords)\n",
    "      \n",
    "def remove_non_alphabetic(text):\n",
    "    return [word for word in text if word.isalpha()]\n",
    "\n",
    "text_data = text_data.apply(remove_non_alphabetic)\n",
    "text_data = text_data.apply(' '.join)\n",
    "text_data_list = text_data.tolist()\n",
    "\n",
    "#stemming\n",
    "\n",
    "stemmer = PorterStemmer()\n",
    "stemmed_text_data_list = [[stemmer.stem(word) for word in sentence.split()] for sentence in text_data_list]\n",
    "\n",
    "#lemmatization\n",
    "\n",
    "lemmatizer = WordNetLemmatizer()\n",
    "\n",
    "lemmatized_text_data_list = [[lemmatizer.lemmatize(word) for word in sentence.split()] for sentence in text_data_list]\n",
    "\n",
    "lemmatized_text_data = [' '.join(sentence) for sentence in lemmatized_text_data_list]\n",
    "\n",
    "tfidf_vectorizer = TfidfVectorizer(max_features=5000)  \n",
    "\n",
    "tfidf_matrix = tfidf_vectorizer.fit_transform(lemmatized_text_data)\n",
    "\n",
    "\n",
    "target = df['Emotion']\n",
    "\n",
    "\n",
    "X_train, X_test, y_train, y_test = train_test_split(tfidf_matrix, target, test_size=0.2, random_state=42)\n",
    "\n",
    "svm_classifier = SVC(kernel='linear', C=1.0, random_state=42)\n",
    "svm_classifier.fit(X_train, y_train)\n",
    "\n",
    "y_pred = svm_classifier.predict(X_test)\n",
    "\n",
    "accuracy = accuracy_score(y_test, y_pred)\n",
    "\n",
    "print(f'Accuracy: {accuracy}')\n",
    "\n",
    "report = classification_report(y_test, y_pred)\n",
    "print(report)"
   ]
  },
  {
   "cell_type": "code",
   "execution_count": null,
   "id": "fe171891",
   "metadata": {},
   "outputs": [],
   "source": []
  }
 ],
 "metadata": {
  "kernelspec": {
   "display_name": "Python 3 (ipykernel)",
   "language": "python",
   "name": "python3"
  },
  "language_info": {
   "codemirror_mode": {
    "name": "ipython",
    "version": 3
   },
   "file_extension": ".py",
   "mimetype": "text/x-python",
   "name": "python",
   "nbconvert_exporter": "python",
   "pygments_lexer": "ipython3",
   "version": "3.9.7"
  }
 },
 "nbformat": 4,
 "nbformat_minor": 5
}
